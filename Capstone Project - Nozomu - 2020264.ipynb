{
 "cells": [
  {
   "cell_type": "markdown",
   "id": "801d3df2",
   "metadata": {},
   "source": [
    "### Standard & Poor's (S&P 500 index):\n",
    "- Preprocessing.\n",
    "- Preparation and Visualization."
   ]
  },
  {
   "cell_type": "markdown",
   "id": "8f4465a4-2a77-42db-be85-6cee13371e8c",
   "metadata": {},
   "source": [
    "### Importing Libraries "
   ]
  },
  {
   "cell_type": "code",
   "execution_count": 1,
   "id": "6fbd5652",
   "metadata": {},
   "outputs": [],
   "source": [
    "import pandas as pd\n",
    "import yfinance as yf\n",
    "import numpy as np # for numerical operations\n",
    "import seaborn as sns #visualisation\n",
    "import matplotlib.pyplot as plt # visualization\n",
    "%matplotlib inline \n",
    "import matplotlib.ticker as ticker # Library to customize ticks\n",
    "from datetime import date\n",
    "import holidays\n",
    "\n",
    "import warnings # filter warnings\n",
    "warnings.filterwarnings('ignore')"
   ]
  },
  {
   "cell_type": "markdown",
   "id": "0cdf4823",
   "metadata": {},
   "source": [
    "The selected source for the experiment is Yahoo Finance, through the integration of the yfinance library and jupyter.\n",
    "- Timeframe selected for the project is 10 years (2014-2023).\n",
    "- The frequency to be used is business day, the selection is because the market is open during these days.\n",
    "- The period include real world scenarios such as Brexit in 2016 and Covid-19.\n",
    "- Is also believed that in 10 years of data, volatility and trends are present in the market. "
   ]
  },
  {
   "cell_type": "markdown",
   "id": "320cf808-9e50-4efe-ae0f-8c46fce704a5",
   "metadata": {},
   "source": [
    "### Importing dataset from yahoo finance (yfinance library)."
   ]
  },
  {
   "cell_type": "code",
   "execution_count": 2,
   "id": "2f4a00dd",
   "metadata": {},
   "outputs": [
    {
     "name": "stderr",
     "output_type": "stream",
     "text": [
      "[*********************100%%**********************]  1 of 1 completed\n"
     ]
    }
   ],
   "source": [
    "# Defines ticker symbol for S&P 500 index.\n",
    "ticker_symbol = \"^GSPC\"\n",
    "\n",
    "# Fetch historical data.\n",
    "sp500_data = yf.download(ticker_symbol, start=\"2014-01-01\", end=\"2023-12-31\")"
   ]
  },
  {
   "cell_type": "markdown",
   "id": "c21e094d-d1ec-4a24-901b-fbcc2792a1e9",
   "metadata": {},
   "source": [
    "The command display provides an overview of the dataset: \n",
    "- Head: First five rows.\n",
    "- Tail: Last five rows.\n",
    "- Shape: Number of rows and columns."
   ]
  },
  {
   "cell_type": "markdown",
   "id": "a5c6b8bf-e6c3-4d23-9c42-eefc079828cb",
   "metadata": {},
   "source": [
    "### Data PreProcessing "
   ]
  },
  {
   "cell_type": "code",
   "execution_count": 3,
   "id": "bd62f96c",
   "metadata": {
    "scrolled": true
   },
   "outputs": [
    {
     "data": {
      "text/html": [
       "<div>\n",
       "<style scoped>\n",
       "    .dataframe tbody tr th:only-of-type {\n",
       "        vertical-align: middle;\n",
       "    }\n",
       "\n",
       "    .dataframe tbody tr th {\n",
       "        vertical-align: top;\n",
       "    }\n",
       "\n",
       "    .dataframe thead th {\n",
       "        text-align: right;\n",
       "    }\n",
       "</style>\n",
       "<table border=\"1\" class=\"dataframe\">\n",
       "  <thead>\n",
       "    <tr style=\"text-align: right;\">\n",
       "      <th></th>\n",
       "      <th>Open</th>\n",
       "      <th>High</th>\n",
       "      <th>Low</th>\n",
       "      <th>Close</th>\n",
       "      <th>Adj Close</th>\n",
       "      <th>Volume</th>\n",
       "    </tr>\n",
       "    <tr>\n",
       "      <th>Date</th>\n",
       "      <th></th>\n",
       "      <th></th>\n",
       "      <th></th>\n",
       "      <th></th>\n",
       "      <th></th>\n",
       "      <th></th>\n",
       "    </tr>\n",
       "  </thead>\n",
       "  <tbody>\n",
       "    <tr>\n",
       "      <th>2014-01-02</th>\n",
       "      <td>1845.859985</td>\n",
       "      <td>1845.859985</td>\n",
       "      <td>1827.739990</td>\n",
       "      <td>1831.979980</td>\n",
       "      <td>1831.979980</td>\n",
       "      <td>3080600000</td>\n",
       "    </tr>\n",
       "    <tr>\n",
       "      <th>2014-01-03</th>\n",
       "      <td>1833.209961</td>\n",
       "      <td>1838.239990</td>\n",
       "      <td>1829.130005</td>\n",
       "      <td>1831.369995</td>\n",
       "      <td>1831.369995</td>\n",
       "      <td>2774270000</td>\n",
       "    </tr>\n",
       "    <tr>\n",
       "      <th>2014-01-06</th>\n",
       "      <td>1832.310059</td>\n",
       "      <td>1837.160034</td>\n",
       "      <td>1823.729980</td>\n",
       "      <td>1826.770020</td>\n",
       "      <td>1826.770020</td>\n",
       "      <td>3294850000</td>\n",
       "    </tr>\n",
       "    <tr>\n",
       "      <th>2014-01-07</th>\n",
       "      <td>1828.709961</td>\n",
       "      <td>1840.099976</td>\n",
       "      <td>1828.709961</td>\n",
       "      <td>1837.880005</td>\n",
       "      <td>1837.880005</td>\n",
       "      <td>3511750000</td>\n",
       "    </tr>\n",
       "    <tr>\n",
       "      <th>2014-01-08</th>\n",
       "      <td>1837.900024</td>\n",
       "      <td>1840.020020</td>\n",
       "      <td>1831.400024</td>\n",
       "      <td>1837.489990</td>\n",
       "      <td>1837.489990</td>\n",
       "      <td>3652140000</td>\n",
       "    </tr>\n",
       "    <tr>\n",
       "      <th>...</th>\n",
       "      <td>...</td>\n",
       "      <td>...</td>\n",
       "      <td>...</td>\n",
       "      <td>...</td>\n",
       "      <td>...</td>\n",
       "      <td>...</td>\n",
       "    </tr>\n",
       "    <tr>\n",
       "      <th>2023-12-22</th>\n",
       "      <td>4753.919922</td>\n",
       "      <td>4772.939941</td>\n",
       "      <td>4736.770020</td>\n",
       "      <td>4754.629883</td>\n",
       "      <td>4754.629883</td>\n",
       "      <td>3046770000</td>\n",
       "    </tr>\n",
       "    <tr>\n",
       "      <th>2023-12-26</th>\n",
       "      <td>4758.859863</td>\n",
       "      <td>4784.720215</td>\n",
       "      <td>4758.450195</td>\n",
       "      <td>4774.750000</td>\n",
       "      <td>4774.750000</td>\n",
       "      <td>2513910000</td>\n",
       "    </tr>\n",
       "    <tr>\n",
       "      <th>2023-12-27</th>\n",
       "      <td>4773.450195</td>\n",
       "      <td>4785.390137</td>\n",
       "      <td>4768.899902</td>\n",
       "      <td>4781.580078</td>\n",
       "      <td>4781.580078</td>\n",
       "      <td>2748450000</td>\n",
       "    </tr>\n",
       "    <tr>\n",
       "      <th>2023-12-28</th>\n",
       "      <td>4786.439941</td>\n",
       "      <td>4793.299805</td>\n",
       "      <td>4780.979980</td>\n",
       "      <td>4783.350098</td>\n",
       "      <td>4783.350098</td>\n",
       "      <td>2698860000</td>\n",
       "    </tr>\n",
       "    <tr>\n",
       "      <th>2023-12-29</th>\n",
       "      <td>4782.879883</td>\n",
       "      <td>4788.430176</td>\n",
       "      <td>4751.990234</td>\n",
       "      <td>4769.830078</td>\n",
       "      <td>4769.830078</td>\n",
       "      <td>3126060000</td>\n",
       "    </tr>\n",
       "  </tbody>\n",
       "</table>\n",
       "<p>2516 rows × 6 columns</p>\n",
       "</div>"
      ],
      "text/plain": [
       "                   Open         High          Low        Close    Adj Close  \\\n",
       "Date                                                                          \n",
       "2014-01-02  1845.859985  1845.859985  1827.739990  1831.979980  1831.979980   \n",
       "2014-01-03  1833.209961  1838.239990  1829.130005  1831.369995  1831.369995   \n",
       "2014-01-06  1832.310059  1837.160034  1823.729980  1826.770020  1826.770020   \n",
       "2014-01-07  1828.709961  1840.099976  1828.709961  1837.880005  1837.880005   \n",
       "2014-01-08  1837.900024  1840.020020  1831.400024  1837.489990  1837.489990   \n",
       "...                 ...          ...          ...          ...          ...   \n",
       "2023-12-22  4753.919922  4772.939941  4736.770020  4754.629883  4754.629883   \n",
       "2023-12-26  4758.859863  4784.720215  4758.450195  4774.750000  4774.750000   \n",
       "2023-12-27  4773.450195  4785.390137  4768.899902  4781.580078  4781.580078   \n",
       "2023-12-28  4786.439941  4793.299805  4780.979980  4783.350098  4783.350098   \n",
       "2023-12-29  4782.879883  4788.430176  4751.990234  4769.830078  4769.830078   \n",
       "\n",
       "                Volume  \n",
       "Date                    \n",
       "2014-01-02  3080600000  \n",
       "2014-01-03  2774270000  \n",
       "2014-01-06  3294850000  \n",
       "2014-01-07  3511750000  \n",
       "2014-01-08  3652140000  \n",
       "...                ...  \n",
       "2023-12-22  3046770000  \n",
       "2023-12-26  2513910000  \n",
       "2023-12-27  2748450000  \n",
       "2023-12-28  2698860000  \n",
       "2023-12-29  3126060000  \n",
       "\n",
       "[2516 rows x 6 columns]"
      ]
     },
     "metadata": {},
     "output_type": "display_data"
    }
   ],
   "source": [
    "display(sp500_data)"
   ]
  },
  {
   "cell_type": "markdown",
   "id": "a23b4daa-3507-4850-ab50-0298f6bcd482",
   "metadata": {},
   "source": [
    "- The dataset is composed by 2516 rows and 6 features. In this present project the Close feature will be the focus of the study, representing the closing index at the end of the trading day."
   ]
  },
  {
   "cell_type": "code",
   "execution_count": 4,
   "id": "15b3e976-4c2c-4c5f-878d-1885a8719bc9",
   "metadata": {},
   "outputs": [
    {
     "name": "stdout",
     "output_type": "stream",
     "text": [
      "Missing values:\n",
      "Open         0\n",
      "High         0\n",
      "Low          0\n",
      "Close        0\n",
      "Adj Close    0\n",
      "Volume       0\n",
      "dtype: int64\n"
     ]
    }
   ],
   "source": [
    "# Check for missing values\n",
    "missing_values = sp500_data.isnull().sum()\n",
    "\n",
    "# Print the number of missing values for each column\n",
    "print(\"Missing values:\")\n",
    "print(missing_values)"
   ]
  },
  {
   "cell_type": "markdown",
   "id": "54fb76e0-c167-450d-a977-cdc7e8d7d72e",
   "metadata": {},
   "source": [
    "- The S&P 500 index dataset imported from yfinance is composed by 2516 observations and 6 features.\n",
    "\n",
    "The dataset does not present outliers at this point. However, by observind the first five rows it is noticeable that there are not five days in a row (business days), therefore holidays on weekdays might have been excluded from the set due to no trading activity."
   ]
  },
  {
   "cell_type": "code",
   "execution_count": 5,
   "id": "86bfdd1b-1041-4f28-a255-593ea0980d1d",
   "metadata": {},
   "outputs": [
    {
     "name": "stdout",
     "output_type": "stream",
     "text": [
      "Total number of business days between 2014-01-01 and 2023-12-31 is: 2608\n"
     ]
    }
   ],
   "source": [
    "# Define start and end dates - 10 years period.\n",
    "start_date = '2014-01-01'\n",
    "end_date = '2023-12-31'\n",
    "\n",
    "# Generate business days between the start and end dates\n",
    "business_days = pd.bdate_range(start=start_date, end=end_date)\n",
    "\n",
    "# Get the total number of business days\n",
    "total_business_days = len(business_days)\n",
    "\n",
    "print(\"Total number of business days between\", start_date, \"and\", end_date, \"is:\", total_business_days)"
   ]
  },
  {
   "cell_type": "markdown",
   "id": "84bdb9a6-b97d-4f77-af86-8ded7cdaca93",
   "metadata": {},
   "source": [
    "The calendar within the selected period has 2608 business days, having more days than the number of rows in the dataset, providing more evidence for the exclusion of holidays on weekdays (no trading). \n",
    "- weekends could be considered noise (market is closed).\n",
    "- by analysing just the business days it can be focused on days that the market is actually open, reducing the amount of noise which could affect the model performance. "
   ]
  },
  {
   "cell_type": "markdown",
   "id": "578a2f6a-48da-4534-8a50-08f587889fff",
   "metadata": {},
   "source": [
    "#### <b> After the models have being implemented a second round of models can be applied using daily frequency, which will include all the seven days (addition not only of holidays on weekdays, but also, weekends).\n",
    "\n",
    "- Check the performance of the models and compare what frequency techniques performs better or worse. In addition, check if the introduction of noise (handling missing values) affected the models and justify even deeper the choice for the frequency."
   ]
  },
  {
   "cell_type": "code",
   "execution_count": 16,
   "id": "c41c70cc-4df1-4bdb-bf09-823ce78d18bb",
   "metadata": {},
   "outputs": [
    {
     "data": {
      "text/html": [
       "<div>\n",
       "<style scoped>\n",
       "    .dataframe tbody tr th:only-of-type {\n",
       "        vertical-align: middle;\n",
       "    }\n",
       "\n",
       "    .dataframe tbody tr th {\n",
       "        vertical-align: top;\n",
       "    }\n",
       "\n",
       "    .dataframe thead th {\n",
       "        text-align: right;\n",
       "    }\n",
       "</style>\n",
       "<table border=\"1\" class=\"dataframe\">\n",
       "  <thead>\n",
       "    <tr style=\"text-align: right;\">\n",
       "      <th></th>\n",
       "      <th>Open</th>\n",
       "      <th>Close</th>\n",
       "    </tr>\n",
       "    <tr>\n",
       "      <th>Date</th>\n",
       "      <th></th>\n",
       "      <th></th>\n",
       "    </tr>\n",
       "  </thead>\n",
       "  <tbody>\n",
       "    <tr>\n",
       "      <th>2014-01-01</th>\n",
       "      <td>NaN</td>\n",
       "      <td>NaN</td>\n",
       "    </tr>\n",
       "    <tr>\n",
       "      <th>2014-01-02</th>\n",
       "      <td>1845.859985</td>\n",
       "      <td>1831.979980</td>\n",
       "    </tr>\n",
       "    <tr>\n",
       "      <th>2014-01-03</th>\n",
       "      <td>1833.209961</td>\n",
       "      <td>1831.369995</td>\n",
       "    </tr>\n",
       "    <tr>\n",
       "      <th>2014-01-06</th>\n",
       "      <td>1832.310059</td>\n",
       "      <td>1826.770020</td>\n",
       "    </tr>\n",
       "    <tr>\n",
       "      <th>2014-01-07</th>\n",
       "      <td>1828.709961</td>\n",
       "      <td>1837.880005</td>\n",
       "    </tr>\n",
       "    <tr>\n",
       "      <th>...</th>\n",
       "      <td>...</td>\n",
       "      <td>...</td>\n",
       "    </tr>\n",
       "    <tr>\n",
       "      <th>2023-12-25</th>\n",
       "      <td>NaN</td>\n",
       "      <td>NaN</td>\n",
       "    </tr>\n",
       "    <tr>\n",
       "      <th>2023-12-26</th>\n",
       "      <td>4758.859863</td>\n",
       "      <td>4774.750000</td>\n",
       "    </tr>\n",
       "    <tr>\n",
       "      <th>2023-12-27</th>\n",
       "      <td>4773.450195</td>\n",
       "      <td>4781.580078</td>\n",
       "    </tr>\n",
       "    <tr>\n",
       "      <th>2023-12-28</th>\n",
       "      <td>4786.439941</td>\n",
       "      <td>4783.350098</td>\n",
       "    </tr>\n",
       "    <tr>\n",
       "      <th>2023-12-29</th>\n",
       "      <td>4782.879883</td>\n",
       "      <td>4769.830078</td>\n",
       "    </tr>\n",
       "  </tbody>\n",
       "</table>\n",
       "<p>2608 rows × 2 columns</p>\n",
       "</div>"
      ],
      "text/plain": [
       "                   Open        Close\n",
       "Date                                \n",
       "2014-01-01          NaN          NaN\n",
       "2014-01-02  1845.859985  1831.979980\n",
       "2014-01-03  1833.209961  1831.369995\n",
       "2014-01-06  1832.310059  1826.770020\n",
       "2014-01-07  1828.709961  1837.880005\n",
       "...                 ...          ...\n",
       "2023-12-25          NaN          NaN\n",
       "2023-12-26  4758.859863  4774.750000\n",
       "2023-12-27  4773.450195  4781.580078\n",
       "2023-12-28  4786.439941  4783.350098\n",
       "2023-12-29  4782.879883  4769.830078\n",
       "\n",
       "[2608 rows x 2 columns]"
      ]
     },
     "metadata": {},
     "output_type": "display_data"
    }
   ],
   "source": [
    "# Defining start and end dates (ten years timeframe)\n",
    "start_date = date(2014, 1, 1)\n",
    "end_date = date(2023, 12, 31)\n",
    "\n",
    "# Get all US business holidays between start_date and end_date\n",
    "us_holidays = holidays.US()\n",
    "\n",
    "# Create a complete date range covering all weekdays\n",
    "all_weekdays = pd.date_range(start=start_date, end=end_date, freq='B')\n",
    "\n",
    "# Filter out holidays that fall on weekdays\n",
    "us_business_holidays = [holiday for holiday in us_holidays.keys() if holiday in all_weekdays]\n",
    "\n",
    "# Filter out weekends\n",
    "weekdays = all_weekdays.difference(pd.to_datetime(us_business_holidays))\n",
    "\n",
    "# Create DataFrame with all weekdays\n",
    "weekdays_df = pd.DataFrame({'Date': weekdays})\n",
    "\n",
    "# Set 'Date' column as index\n",
    "weekdays_df.set_index('Date', inplace=True)\n",
    "\n",
    "# Create DataFrame with S&P 500 data\n",
    "df = pd.DataFrame(sp500_data, columns=['Open', 'Close'])\n",
    "\n",
    "# Merge the two DataFrames on the index\n",
    "merged_df = weekdays_df.merge(df, left_index=True, right_index=True, how='left')\n",
    "\n",
    "# Convert back to Series\n",
    "df_BF = merged_df\n",
    "\n",
    "# Display the updated Series\n",
    "display(df_BF)"
   ]
  },
  {
   "cell_type": "markdown",
   "id": "8c718e2e-34b6-456f-9f79-babacd0687c0",
   "metadata": {},
   "source": [
    "- After the inputation of the holidays the number of entries match with the total (2608), which was generated by the previous code.\n",
    "- The inputed missing days were added with NaN values, which will have to be addressed. "
   ]
  },
  {
   "cell_type": "code",
   "execution_count": 17,
   "id": "2ec1d4f7-2326-4526-97dc-df126561cc25",
   "metadata": {},
   "outputs": [
    {
     "name": "stdout",
     "output_type": "stream",
     "text": [
      "Missing values:\n",
      "Open     92\n",
      "Close    92\n",
      "dtype: int64\n"
     ]
    }
   ],
   "source": [
    "# Check for missing values\n",
    "missing_values = df_BF.isnull().sum()\n",
    "\n",
    "# Print the number of missing values for each column\n",
    "print(\"Missing values:\")\n",
    "print(missing_values)"
   ]
  },
  {
   "cell_type": "markdown",
   "id": "35124019-0034-4c59-bdc7-17b042997339",
   "metadata": {},
   "source": [
    "During this 10 years period, the market had 92 holidays on business days.\n",
    "<b> Assuming that technically the close value of the last trading day will maintain untill the following trading day.\n",
    "- The technique to be performed is the foward fill, which will use close prices of the day before (last day that it was open).\n",
    "- Second stage will be performed using the back fill for the first data point in the set, since there is not a close index from the previous day, the open value from the previous trading day will be used.  "
   ]
  },
  {
   "cell_type": "code",
   "execution_count": 9,
   "id": "68f8ad52-fba5-40f2-bdec-5ffe61d5474c",
   "metadata": {},
   "outputs": [
    {
     "data": {
      "text/plain": [
       "Date\n",
       "2014-01-01            NaN\n",
       "2014-01-02    1831.979980\n",
       "2014-01-03    1831.369995\n",
       "2014-01-06    1826.770020\n",
       "2014-01-07    1837.880005\n",
       "                 ...     \n",
       "2023-12-25    4754.629883\n",
       "2023-12-26    4774.750000\n",
       "2023-12-27    4781.580078\n",
       "2023-12-28    4783.350098\n",
       "2023-12-29    4769.830078\n",
       "Name: Close, Length: 2608, dtype: float64"
      ]
     },
     "metadata": {},
     "output_type": "display_data"
    }
   ],
   "source": [
    "# Forward fill NaN values in the 'Close' column\n",
    "df_BF.fillna(method='ffill', inplace=True)\n",
    "\n",
    "# Display the updated DataFrame with forward filled values\n",
    "display(df_BF)"
   ]
  },
  {
   "cell_type": "code",
   "execution_count": 10,
   "id": "55146ee5-d804-4a22-b596-e0fc2f95333a",
   "metadata": {},
   "outputs": [],
   "source": [
    "# Get the 'Open' price from the next available trading day (02/01/14) in sp500_data\n",
    "next_trading_day_open = sp500_data.loc['2014-01-02', 'Open']\n",
    "\n",
    "# Fill the missing value in df_BF with the 'Open' price from the next trading day\n",
    "df_BF.loc['2014-01-01'] = next_trading_day_open"
   ]
  },
  {
   "cell_type": "code",
   "execution_count": 11,
   "id": "1d7e60f6-5c99-4b53-b47a-42023b31f058",
   "metadata": {},
   "outputs": [
    {
     "data": {
      "text/plain": [
       "Date\n",
       "2014-01-01    1845.859985\n",
       "2014-01-02    1831.979980\n",
       "2014-01-03    1831.369995\n",
       "2014-01-06    1826.770020\n",
       "2014-01-07    1837.880005\n",
       "                 ...     \n",
       "2023-12-25    4754.629883\n",
       "2023-12-26    4774.750000\n",
       "2023-12-27    4781.580078\n",
       "2023-12-28    4783.350098\n",
       "2023-12-29    4769.830078\n",
       "Name: Close, Length: 2608, dtype: float64"
      ]
     },
     "metadata": {},
     "output_type": "display_data"
    }
   ],
   "source": [
    "# Display the updated DataFrame with the first business/holiday of the year. \n",
    "display(df_BF)"
   ]
  },
  {
   "cell_type": "code",
   "execution_count": 12,
   "id": "a678f0e3-371f-4908-9078-bd980325e102",
   "metadata": {},
   "outputs": [
    {
     "name": "stdout",
     "output_type": "stream",
     "text": [
      "Missing values:\n",
      "0\n"
     ]
    }
   ],
   "source": [
    "# Check for missing values\n",
    "missing_values = df_BF.isnull().sum()\n",
    "\n",
    "# Print the number of missing values for each column\n",
    "print(\"Missing values:\")\n",
    "print(missing_values)"
   ]
  },
  {
   "cell_type": "code",
   "execution_count": 13,
   "id": "7a53806e-e09b-4cef-a90a-82076ea74bff",
   "metadata": {
    "scrolled": true
   },
   "outputs": [
    {
     "data": {
      "text/plain": [
       "count    2516.000000\n",
       "mean     3005.883140\n",
       "std       901.337964\n",
       "min      1741.890015\n",
       "25%      2124.267517\n",
       "50%      2798.160034\n",
       "75%      3907.079956\n",
       "max      4796.560059\n",
       "Name: Close, dtype: float64"
      ]
     },
     "execution_count": 13,
     "metadata": {},
     "output_type": "execute_result"
    }
   ],
   "source": [
    "sp500_data['Close'].describe()"
   ]
  },
  {
   "cell_type": "code",
   "execution_count": 14,
   "id": "5abc733f-a02a-4ee7-a42c-aad3d9167f08",
   "metadata": {
    "scrolled": true
   },
   "outputs": [
    {
     "data": {
      "text/plain": [
       "count    2608.000000\n",
       "mean     3005.915583\n",
       "std       901.622414\n",
       "min      1741.890015\n",
       "25%      2124.267517\n",
       "50%      2795.005005\n",
       "75%      3903.642578\n",
       "max      4796.560059\n",
       "Name: Close, dtype: float64"
      ]
     },
     "execution_count": 14,
     "metadata": {},
     "output_type": "execute_result"
    }
   ],
   "source": [
    "df_BF.describe()"
   ]
  },
  {
   "cell_type": "markdown",
   "id": "85635c72-908e-4467-9fd0-9781b81e0908",
   "metadata": {},
   "source": [
    "Looking at the statistical properties of the S&P500 data (withouy any imputations) and the df_BF (with imputations), it is observable that the properties barely changed, the biggest difference are in the 50% (-3.16) and 75% (-3.44). However, taking into consideration the scale the change is not significant. \n",
    "\n",
    "The statistical features of the imputed dataframe, the df_BF:\n",
    "- The variable ranges from 1741.89 to 4796.56\n",
    "- It has a mean (average) of 3005.92.\n",
    "- The standard deviation is 901.62, and in the present context can be considered high because it represents almost 30% of the avg value, but also, taking into consideration the scale of the min and max values. "
   ]
  },
  {
   "cell_type": "markdown",
   "id": "b38d3430-d05b-4eb6-b2da-36dfff927d3a",
   "metadata": {},
   "source": [
    "The stock market prices are kept as the same value as the closing prices of the last day that was trading. Thus, the technique to be performed is the foward fill, inputing the close value from the day before.\n",
    "\n",
    "- Other imputation techniques can be applied later to check the results and implications of each approach to handle the missing values."
   ]
  },
  {
   "cell_type": "markdown",
   "id": "72e4ac9f-d5c4-4aff-b91b-33e2554ad387",
   "metadata": {},
   "source": [
    "### Outliers and Skewness"
   ]
  },
  {
   "cell_type": "code",
   "execution_count": null,
   "id": "d61eed8a",
   "metadata": {},
   "outputs": [],
   "source": [
    "plt.figure(figsize=(12, 8)) # Set up the plot and adjust the figure size.\n",
    "sns.set(style=\"whitegrid\", font_scale=1.2) # Add a whitegrid in the backgound for clear visualization.\n",
    "# Creates the boxplot with all the columns.\n",
    "ax = sns.boxplot(data=sp500_data['Close'], width=0.5) # Sets the width to 0.5\n",
    " # Add labels and ha argument used to align the labels to the designated boxplot.\n",
    "ax.set_xlabel('Data') # Adds x-axis label.\n",
    "ax.set_ylabel('Value') # Adds y-axis label.\n",
    "ax.set_title('Boxplot of S&P500 index overtime (10 years)') # Sets title to tle boxplot.\n",
    "\n",
    "plt.tight_layout() # Adjusts the layout.\n",
    "plt.show() # Shows the plot."
   ]
  },
  {
   "cell_type": "markdown",
   "id": "a41a8119-2936-4a04-bb25-26242bdf160a",
   "metadata": {},
   "source": [
    "- The .describe along with the boxplot shows that the mean is above the median indicating a skewness towards higher values.\n",
    "- According to the boxplot, the close variable does not present any values outside of the skewers, therefore no outliers. In addition, IQR (Inter Quartile Range) and MAD (Median Absolute Deviation) will be performed to be sure."
   ]
  },
  {
   "cell_type": "code",
   "execution_count": null,
   "id": "fe7cc34a-d43b-49d6-98a8-d8d35b411293",
   "metadata": {},
   "outputs": [],
   "source": [
    "Q1 = sp500_data['Adj Close'].quantile(0.25)\n",
    "Q3 = sp500_data['Adj Close'].quantile(0.75)\n",
    "IQR = Q3 - Q1\n",
    "lower_bound = Q1 - 1.5 * IQR\n",
    "upper_bound = Q3 + 1.5 * IQR\n",
    "outliers = sp500_data['Close'][(sp500_data['Close'] < lower_bound) | (sp500_data['Close'] > upper_bound)]\n",
    "\n",
    "# Check if there are outliers\n",
    "if outliers.empty:\n",
    "    print(\"No outliers detected.\")\n",
    "else:\n",
    "    print(\"Outliers detected:\")\n",
    "    print(outliers)"
   ]
  },
  {
   "cell_type": "code",
   "execution_count": null,
   "id": "ac3d68b4-1ba8-44ed-bfe5-871a94076db4",
   "metadata": {},
   "outputs": [],
   "source": [
    "# Calculate the median absolute deviation (MAD)\n",
    "median = sp500_data['Close'].median()\n",
    "mad = np.median(np.abs(sp500_data['Close'] - median))\n",
    "\n",
    "# Define a threshold for outliers (e.g., 3 times the MAD)\n",
    "threshold_mad = 3 * mad\n",
    "\n",
    "# Identify outliers using the MAD method\n",
    "outliers_mad = sp500_data['Close'][np.abs(sp500_data['Close'] - median) > threshold_mad]\n",
    "\n",
    "# Display outliers detected by the MAD method\n",
    "print(\"Outliers detected using MAD method:\")\n",
    "print(outliers_mad)"
   ]
  },
  {
   "cell_type": "code",
   "execution_count": null,
   "id": "e934d66b-5eb3-4372-a7ad-96cf8ab736e9",
   "metadata": {},
   "outputs": [],
   "source": [
    "from scipy import stats\n",
    "\n",
    "# Detect outliers using Z-score method\n",
    "z_scores = stats.zscore(sp500_data['Close'])\n",
    "outliers = (z_scores > 3) | (z_scores < -3)\n",
    "outlier_indices = sp500_data.index[outliers]\n",
    "print('Outlier indices:', outlier_indices)\n"
   ]
  },
  {
   "cell_type": "markdown",
   "id": "413c389e-c2f1-4f67-89d4-7f59f6f8e7ee",
   "metadata": {},
   "source": [
    "- The previous lines of code shows that no outliers are present. "
   ]
  },
  {
   "cell_type": "markdown",
   "id": "d6c6dd6b-86f2-4c3f-ae6a-77ebcf2bbe54",
   "metadata": {},
   "source": [
    "### Distribution of Close index"
   ]
  },
  {
   "cell_type": "code",
   "execution_count": null,
   "id": "8903ee98-8bda-438b-b06f-d91a58712c3f",
   "metadata": {},
   "outputs": [],
   "source": [
    "# Distribution plot of Close prices\n",
    "plt.figure(figsize=(10, 6))\n",
    "sns.histplot(sp500_data['Close'], bins=20, kde=True, color='blue')\n",
    "plt.title('Distribution of S&P500 Index')\n",
    "plt.xlabel('Close S&P500 Index')\n",
    "plt.ylabel('Frequency')\n",
    "plt.show()"
   ]
  },
  {
   "cell_type": "markdown",
   "id": "b9aa7b18-0384-4de4-b680-33bfb3ac3086",
   "metadata": {},
   "source": [
    "The close index presents a multimodal distribution of values. "
   ]
  },
  {
   "cell_type": "code",
   "execution_count": null,
   "id": "2ff8953a",
   "metadata": {},
   "outputs": [],
   "source": [
    "# Plotting\n",
    "plt.figure(figsize=(12, 8))\n",
    "\n",
    "# Time Series Plot of Close Price\n",
    "plt.plot(sp500_data.index, sp500_data['Close'], color='blue')\n",
    "plt.title('S&P 500 Close Price Over Time')\n",
    "plt.xlabel('Date')\n",
    "plt.ylabel('Close Price')\n",
    "\n",
    "plt.show()"
   ]
  },
  {
   "cell_type": "code",
   "execution_count": null,
   "id": "f26fac8a-046c-4941-8d0b-edd9e74b7c0b",
   "metadata": {},
   "outputs": [],
   "source": [
    "from statsmodels.tsa.stattools import adfuller\n",
    "\n",
    "# Perform Augmented Dickey-Fuller test for stationarity\n",
    "adf_test = adfuller(sp500_data['Close'])\n",
    "print('ADF Statistic:', adf_test[0])\n",
    "print('p-value:', adf_test[1])"
   ]
  },
  {
   "cell_type": "markdown",
   "id": "9b61b50b-ff69-450b-8d4f-e9bff15d315c",
   "metadata": {},
   "source": [
    "- Based on the p-value of 0.92, which is way above 0.05, the time series is likely non-stationary. Thus, additional techniques such as differencing, detrending approaches will have to be applied to attend auto regressive requirements. "
   ]
  },
  {
   "cell_type": "code",
   "execution_count": null,
   "id": "393a4a58-8628-4a16-beb0-11ba0d9c8920",
   "metadata": {},
   "outputs": [],
   "source": []
  },
  {
   "cell_type": "code",
   "execution_count": null,
   "id": "f28ae80d-d16b-41ed-bdff-7805a33a3877",
   "metadata": {},
   "outputs": [],
   "source": []
  },
  {
   "cell_type": "code",
   "execution_count": null,
   "id": "a500f0a2-f4dd-4cb3-be78-7100338dfd9f",
   "metadata": {},
   "outputs": [],
   "source": []
  },
  {
   "cell_type": "code",
   "execution_count": null,
   "id": "60f6f803",
   "metadata": {},
   "outputs": [],
   "source": [
    "# Calculates daily stock returns.\n",
    "sp500_data['Daily stock_return'] = sp500_data['Adj Close'].pct_change()\n",
    "\n",
    "# Prints the sp500_data with the new column (the stock returns).\n",
    "print(sp500_data)"
   ]
  },
  {
   "cell_type": "code",
   "execution_count": null,
   "id": "4115434d",
   "metadata": {},
   "outputs": [],
   "source": [
    "# Calculate the minimum and maximum values in the column\n",
    "min_value = sp500_data['Daily stock_return'].min()\n",
    "max_value = sp500_data['Daily stock_return'].max()\n",
    "\n",
    "# Print the minimum and maximum values\n",
    "print(\"Minimum value:\", min_value)\n",
    "print(\"Maximum value:\", max_value)"
   ]
  },
  {
   "cell_type": "code",
   "execution_count": null,
   "id": "5c63f057",
   "metadata": {},
   "outputs": [],
   "source": []
  },
  {
   "cell_type": "code",
   "execution_count": null,
   "id": "b9c7840f",
   "metadata": {},
   "outputs": [],
   "source": []
  },
  {
   "cell_type": "code",
   "execution_count": null,
   "id": "b7f827b8",
   "metadata": {},
   "outputs": [],
   "source": []
  },
  {
   "cell_type": "markdown",
   "id": "553b2988",
   "metadata": {},
   "source": [
    "### Timeframe selected for the second section is from 01/01/00 to 31/12/23"
   ]
  },
  {
   "cell_type": "code",
   "execution_count": null,
   "id": "ccfce55f",
   "metadata": {},
   "outputs": [],
   "source": [
    "# Fetch historical data\n",
    "df = yf.download(ticker_symbol, start=\"2000-01-01\", end=\"2023-12-31\")"
   ]
  },
  {
   "cell_type": "code",
   "execution_count": null,
   "id": "b7104ecf",
   "metadata": {},
   "outputs": [],
   "source": [
    "display(df)"
   ]
  },
  {
   "cell_type": "code",
   "execution_count": null,
   "id": "41295639",
   "metadata": {},
   "outputs": [],
   "source": [
    "# Check for missing values\n",
    "missing_values = df.isnull().sum()\n",
    "\n",
    "# Print the number of missing values for each column\n",
    "print(\"Missing values:\")\n",
    "print(missing_values)"
   ]
  },
  {
   "cell_type": "code",
   "execution_count": null,
   "id": "91ff9168",
   "metadata": {},
   "outputs": [],
   "source": [
    "df.info()"
   ]
  },
  {
   "cell_type": "code",
   "execution_count": null,
   "id": "1508b2ac",
   "metadata": {},
   "outputs": [],
   "source": [
    "df.describe()"
   ]
  },
  {
   "cell_type": "code",
   "execution_count": null,
   "id": "9e3b2de0",
   "metadata": {
    "scrolled": true
   },
   "outputs": [],
   "source": [
    "plt.hist(df['Adj Close'], bins=20, color='skyblue', edgecolor='black')\n",
    "plt.title('Distribution of S&P 500 Adj Closing Prices')\n",
    "plt.xlabel('Close Price')\n",
    "plt.ylabel('Frequency')\n",
    "plt.show()"
   ]
  },
  {
   "cell_type": "markdown",
   "id": "59833e7c",
   "metadata": {},
   "source": [
    "- The Adjusted Close values are highly right-skewed. \n",
    "\n",
    "The following cells will check for outliers and experimentation of techniques."
   ]
  },
  {
   "cell_type": "code",
   "execution_count": null,
   "id": "e1974455",
   "metadata": {},
   "outputs": [],
   "source": [
    "# Boxplot, a visualization technique that uses the IQR method. \n",
    "\n",
    "plt.figure(figsize=(12, 8)) # Set up the plot and adjust the figure size.\n",
    "sns.set(style=\"whitegrid\", font_scale=1.2) # Add a whitegrid in the backgound for clear visualization.\n",
    "# Creates the boxplot with all the columns.\n",
    "ax = sns.boxplot(data=df[['Open','High','Low','Close','Adj Close']], width=0.5) # Sets the width to 0.5\n",
    " # Add labels and ha argument used to align the labels to the designated boxplot.\n",
    "ax.set_xlabel('Data') # Adds x-axis label.\n",
    "ax.set_ylabel('Value') # Adds y-axis label.\n",
    "ax.set_title('Boxplot of S&P500 index overtime (from 01/00)') # Sets title to tle boxplot.\n",
    "\n",
    "plt.tight_layout() # Adjusts the layout.\n",
    "plt.show() # Shows the plot."
   ]
  },
  {
   "cell_type": "code",
   "execution_count": null,
   "id": "c0af1432",
   "metadata": {},
   "outputs": [],
   "source": [
    "Q1 = df['Adj Close'].quantile(0.25)\n",
    "Q3 = df['Adj Close'].quantile(0.75)\n",
    "IQR = Q3 - Q1\n",
    "lower_bound = Q1 - 1.5 * IQR\n",
    "upper_bound = Q3 + 1.5 * IQR\n",
    "outliers = df['Adj Close'][(df['Adj Close'] < lower_bound) | (df['Adj Close'] > upper_bound)]\n",
    "\n",
    "# Check if there are outliers\n",
    "if outliers.empty:\n",
    "    print(\"No outliers detected.\")\n",
    "else:\n",
    "    print(\"Outliers detected:\")\n",
    "    print(outliers)"
   ]
  },
  {
   "cell_type": "code",
   "execution_count": null,
   "id": "9483a87d",
   "metadata": {},
   "outputs": [],
   "source": [
    "# Looking for outliers using the percentile method (0.05 - 0.95)\n",
    "\n",
    "# Define the lower and upper percentile thresholds\n",
    "lower_percentile = df['Adj Close'].quantile(0.05)\n",
    "upper_percentile = df['Adj Close'].quantile(0.95)\n",
    "\n",
    "# Identify outliers\n",
    "outliers_percentile = df[(df['Adj Close'] < lower_percentile) | (df['Adj Close'] > upper_percentile)]\n",
    "\n",
    "# Display outliers\n",
    "print(\"Outliers detected using Percentile method:\")\n",
    "print(outliers_percentile)\n"
   ]
  },
  {
   "cell_type": "markdown",
   "id": "431b5a76",
   "metadata": {},
   "source": [
    "#### Because of the distribution of the data, the percentile technique presented way more outliers than the IQR. Therefore, the chosen approach will be the IQR, which is more appropriate when the data is skewed. "
   ]
  },
  {
   "cell_type": "code",
   "execution_count": null,
   "id": "a1427d78",
   "metadata": {},
   "outputs": [],
   "source": [
    "# Not appropriate, the data is not normally distributed so it could provide wrong insights regarding outliers.\n",
    "\n",
    "#from scipy.stats import zscore\n",
    "#df['Z_score'] = zscore(df['Adj Close'])\n",
    "#outliers = df[abs(df['Z_score']) > 3]\n",
    "\n",
    "# Check if there are outliers\n",
    "#if outliers.empty:\n",
    "#    print(\"No outliers detected.\")\n",
    "#else:\n",
    "#    print(\"Outliers detected:\")\n",
    "#    print(outliers)"
   ]
  },
  {
   "cell_type": "code",
   "execution_count": null,
   "id": "6202b697",
   "metadata": {},
   "outputs": [],
   "source": [
    "# Calculate the median absolute deviation (MAD)\n",
    "median = df['Adj Close'].median()\n",
    "mad = np.median(np.abs(df['Adj Close'] - median))\n",
    "\n",
    "# Define a threshold for outliers (e.g., 3 times the MAD)\n",
    "threshold_mad = 3 * mad\n",
    "\n",
    "# Identify outliers using the MAD method\n",
    "outliers_mad = df[np.abs(df['Adj Close'] - median) > threshold_mad]\n",
    "\n",
    "# Display outliers detected by the MAD method\n",
    "print(\"Outliers detected using MAD method:\")\n",
    "print(outliers_mad)\n"
   ]
  },
  {
   "cell_type": "code",
   "execution_count": null,
   "id": "5a027f93",
   "metadata": {},
   "outputs": [],
   "source": [
    "# Plotting\n",
    "plt.figure(figsize=(12, 8))\n",
    "\n",
    "# Time Series Plot of Close Price\n",
    "plt.plot(df.index, df['Adj Close'], color='blue')\n",
    "plt.title('S&P 500 Close Price Over Time')\n",
    "plt.xlabel('Date')\n",
    "plt.ylabel('Close Price')\n",
    "\n",
    "plt.show()"
   ]
  },
  {
   "cell_type": "code",
   "execution_count": null,
   "id": "c5476b9e",
   "metadata": {},
   "outputs": [],
   "source": []
  },
  {
   "cell_type": "code",
   "execution_count": null,
   "id": "c6493dba",
   "metadata": {},
   "outputs": [],
   "source": []
  },
  {
   "cell_type": "code",
   "execution_count": null,
   "id": "07151906",
   "metadata": {},
   "outputs": [],
   "source": [
    "# Calculates daily stock returns.\n",
    "df['Daily stock_return'] = df['Adj Close'].pct_change()\n",
    "\n",
    "# Prints the df with the new column (the stock returns).\n",
    "print(df)"
   ]
  },
  {
   "cell_type": "code",
   "execution_count": null,
   "id": "0051425a",
   "metadata": {},
   "outputs": [],
   "source": [
    "# Calculate the minimum and maximum values in the column\n",
    "min_value = df['Daily stock_return'].min()\n",
    "max_value = df['Daily stock_return'].max()\n",
    "\n",
    "# Print the minimum and maximum values\n",
    "print(\"Minimum value:\", min_value)\n",
    "print(\"Maximum value:\", max_value)"
   ]
  },
  {
   "cell_type": "code",
   "execution_count": null,
   "id": "70a74f5f",
   "metadata": {},
   "outputs": [],
   "source": [
    "plt.figure(figsize=(12, 8)) # Set up the plot and adjust the figure size.\n",
    "sns.set(style=\"whitegrid\", font_scale=1.2) # Add a whitegrid in the backgound for clear visualization.\n",
    "# Creates the boxplot with all the columns.\n",
    "ax = sns.boxplot(data=df['Daily stock_return'], width=0.5) # Sets the width to 0.5\n",
    " # Add labels and ha argument used to align the labels to the designated boxplot.\n",
    "ax.set_xlabel('Data') # Adds x-axis label.\n",
    "ax.set_ylabel('Value') # Adds y-axis label.\n",
    "ax.set_title('Boxplot of S&P500 index overtime (from 01/00)') # Sets title to tle boxplot.\n",
    "\n",
    "plt.tight_layout() # Adjusts the layout.\n",
    "plt.show() # Shows the plot."
   ]
  },
  {
   "cell_type": "code",
   "execution_count": null,
   "id": "0d4dc8fb",
   "metadata": {},
   "outputs": [],
   "source": []
  }
 ],
 "metadata": {
  "kernelspec": {
   "display_name": "Python 3 (ipykernel)",
   "language": "python",
   "name": "python3"
  },
  "language_info": {
   "codemirror_mode": {
    "name": "ipython",
    "version": 3
   },
   "file_extension": ".py",
   "mimetype": "text/x-python",
   "name": "python",
   "nbconvert_exporter": "python",
   "pygments_lexer": "ipython3",
   "version": "3.11.7"
  }
 },
 "nbformat": 4,
 "nbformat_minor": 5
}
